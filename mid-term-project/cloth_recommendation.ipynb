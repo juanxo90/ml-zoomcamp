{
 "cells": [
  {
   "cell_type": "code",
   "execution_count": 21,
   "metadata": {},
   "outputs": [],
   "source": [
    "import pandas as pd\n",
    "import numpy as np"
   ]
  },
  {
   "cell_type": "code",
   "execution_count": null,
   "metadata": {},
   "outputs": [],
   "source": [
    "data = pd.read_csv('WCE-CR.csv',  index_col=0)\n",
    "\n",
    "data.columns = data.columns.str.lower().str.replace(' ', '_')\n",
    "\n",
    "data = data.applymap(\n",
    "    lambda x: x.lower() if (isinstance(x, str)) else x\n",
    ")"
   ]
  },
  {
   "cell_type": "code",
   "execution_count": null,
   "metadata": {},
   "outputs": [
    {
     "data": {
      "text/html": [
       "<div>\n",
       "<style scoped>\n",
       "    .dataframe tbody tr th:only-of-type {\n",
       "        vertical-align: middle;\n",
       "    }\n",
       "\n",
       "    .dataframe tbody tr th {\n",
       "        vertical-align: top;\n",
       "    }\n",
       "\n",
       "    .dataframe thead th {\n",
       "        text-align: right;\n",
       "    }\n",
       "</style>\n",
       "<table border=\"1\" class=\"dataframe\">\n",
       "  <thead>\n",
       "    <tr style=\"text-align: right;\">\n",
       "      <th></th>\n",
       "      <th>clothing_id</th>\n",
       "      <th>age</th>\n",
       "      <th>title</th>\n",
       "      <th>review_text</th>\n",
       "      <th>rating</th>\n",
       "      <th>recommended_ind</th>\n",
       "      <th>positive_feedback_count</th>\n",
       "      <th>division_name</th>\n",
       "      <th>department_name</th>\n",
       "      <th>class_name</th>\n",
       "    </tr>\n",
       "  </thead>\n",
       "  <tbody>\n",
       "    <tr>\n",
       "      <th>0</th>\n",
       "      <td>767</td>\n",
       "      <td>33</td>\n",
       "      <td>NaN</td>\n",
       "      <td>absolutely wonderful - silky and sexy and comf...</td>\n",
       "      <td>4</td>\n",
       "      <td>1</td>\n",
       "      <td>0</td>\n",
       "      <td>initmates</td>\n",
       "      <td>intimate</td>\n",
       "      <td>intimates</td>\n",
       "    </tr>\n",
       "    <tr>\n",
       "      <th>1</th>\n",
       "      <td>1080</td>\n",
       "      <td>34</td>\n",
       "      <td>NaN</td>\n",
       "      <td>love this dress!  it's sooo pretty.  i happene...</td>\n",
       "      <td>5</td>\n",
       "      <td>1</td>\n",
       "      <td>4</td>\n",
       "      <td>general</td>\n",
       "      <td>dresses</td>\n",
       "      <td>dresses</td>\n",
       "    </tr>\n",
       "    <tr>\n",
       "      <th>2</th>\n",
       "      <td>1077</td>\n",
       "      <td>60</td>\n",
       "      <td>some major design flaws</td>\n",
       "      <td>i had such high hopes for this dress and reall...</td>\n",
       "      <td>3</td>\n",
       "      <td>0</td>\n",
       "      <td>0</td>\n",
       "      <td>general</td>\n",
       "      <td>dresses</td>\n",
       "      <td>dresses</td>\n",
       "    </tr>\n",
       "  </tbody>\n",
       "</table>\n",
       "</div>"
      ],
      "text/plain": [
       "   clothing_id  age                    title  \\\n",
       "0          767   33                      NaN   \n",
       "1         1080   34                      NaN   \n",
       "2         1077   60  some major design flaws   \n",
       "\n",
       "                                         review_text  rating  recommended_ind  \\\n",
       "0  absolutely wonderful - silky and sexy and comf...       4                1   \n",
       "1  love this dress!  it's sooo pretty.  i happene...       5                1   \n",
       "2  i had such high hopes for this dress and reall...       3                0   \n",
       "\n",
       "   positive_feedback_count division_name department_name class_name  \n",
       "0                        0     initmates        intimate  intimates  \n",
       "1                        4       general         dresses    dresses  \n",
       "2                        0       general         dresses    dresses  "
      ]
     },
     "metadata": {},
     "output_type": "display_data"
    }
   ],
   "source": [
    "data.head(3)"
   ]
  },
  {
   "cell_type": "code",
   "execution_count": null,
   "metadata": {},
   "outputs": [
    {
     "data": {
      "text/plain": [
       "(23486, 10)"
      ]
     },
     "metadata": {},
     "output_type": "display_data"
    }
   ],
   "source": [
    "data.shape"
   ]
  },
  {
   "cell_type": "code",
   "execution_count": null,
   "metadata": {},
   "outputs": [
    {
     "data": {
      "text/plain": [
       "clothing_id                   0\n",
       "age                           0\n",
       "title                      3810\n",
       "review_text                 845\n",
       "rating                        0\n",
       "recommended_ind               0\n",
       "positive_feedback_count       0\n",
       "division_name                14\n",
       "department_name              14\n",
       "class_name                   14\n",
       "dtype: int64"
      ]
     },
     "metadata": {},
     "output_type": "display_data"
    }
   ],
   "source": [
    "## verify for null values\n",
    "data.isnull().sum()"
   ]
  },
  {
   "cell_type": "code",
   "execution_count": null,
   "metadata": {},
   "outputs": [
    {
     "name": "stdout",
     "output_type": "stream",
     "text": [
      "(22628, 9)\n"
     ]
    },
    {
     "data": {
      "text/plain": [
       "clothing_id                0\n",
       "age                        0\n",
       "review_text                0\n",
       "rating                     0\n",
       "recommended_ind            0\n",
       "positive_feedback_count    0\n",
       "division_name              0\n",
       "department_name            0\n",
       "class_name                 0\n",
       "dtype: int64"
      ]
     },
     "metadata": {},
     "output_type": "display_data"
    }
   ],
   "source": [
    "# considering that we use the review, we drop title and all null values\n",
    "data.drop(columns='title', inplace=True)\n",
    "data.dropna(inplace=True)\n",
    "print(data.shape)\n",
    "data.isnull().sum()"
   ]
  },
  {
   "cell_type": "markdown",
   "metadata": {},
   "source": [
    "## setting the train-val-test dataset"
   ]
  },
  {
   "cell_type": "code",
   "execution_count": 23,
   "metadata": {},
   "outputs": [],
   "source": [
    "from sklearn.model_selection import train_test_split"
   ]
  },
  {
   "cell_type": "code",
   "execution_count": 24,
   "metadata": {},
   "outputs": [],
   "source": [
    "df_full_train, df_test = train_test_split(data, test_size=0.20, random_state=1)"
   ]
  },
  {
   "cell_type": "code",
   "execution_count": 25,
   "metadata": {},
   "outputs": [],
   "source": [
    "## define test size to be the 20% of the full df, you can do it by\n",
    "# 20%/80% = 1/4\n",
    "df_train, df_val = train_test_split(\n",
    "    df_full_train, test_size=0.25, random_state=1\n",
    ")"
   ]
  },
  {
   "cell_type": "code",
   "execution_count": 27,
   "metadata": {},
   "outputs": [
    {
     "data": {
      "text/plain": [
       "(13576, 4526, 4526)"
      ]
     },
     "execution_count": 27,
     "metadata": {},
     "output_type": "execute_result"
    }
   ],
   "source": [
    "len(df_train), len(df_val), len(df_test)"
   ]
  },
  {
   "cell_type": "code",
   "execution_count": 28,
   "metadata": {},
   "outputs": [],
   "source": [
    "# avoid the random index\n",
    "df_train.reset_index(drop=True, inplace=True)\n",
    "df_val.reset_index(drop=True, inplace=True)\n",
    "df_test.reset_index(drop=True, inplace=True)"
   ]
  },
  {
   "cell_type": "code",
   "execution_count": 29,
   "metadata": {},
   "outputs": [],
   "source": [
    "## get the rarget variable\n",
    "y_train = df_train.recommended_ind.values\n",
    "y_val = df_val.recommended_ind.values\n",
    "y_test = df_test.recommended_ind.values"
   ]
  },
  {
   "cell_type": "code",
   "execution_count": 30,
   "metadata": {},
   "outputs": [],
   "source": [
    "del df_train['recommended_ind']\n",
    "del df_val['recommended_ind']\n",
    "del df_test['recommended_ind']"
   ]
  },
  {
   "cell_type": "markdown",
   "metadata": {},
   "source": [
    "## EDA"
   ]
  },
  {
   "cell_type": "code",
   "execution_count": 31,
   "metadata": {},
   "outputs": [],
   "source": [
    "df_full_train.reset_index(drop=True, inplace=True)"
   ]
  },
  {
   "cell_type": "code",
   "execution_count": 32,
   "metadata": {},
   "outputs": [
    {
     "data": {
      "text/plain": [
       "1    0.819909\n",
       "0    0.180091\n",
       "Name: recommended_ind, dtype: float64"
      ]
     },
     "execution_count": 32,
     "metadata": {},
     "output_type": "execute_result"
    }
   ],
   "source": [
    "df_full_train.recommended_ind.value_counts(normalize=True)"
   ]
  },
  {
   "cell_type": "code",
   "execution_count": null,
   "metadata": {},
   "outputs": [],
   "source": [
    "## the problem is that the dataset is imbalanced, we work a bit with this\n",
    "from imblearn.over_sampling import RandomOverSampler"
   ]
  },
  {
   "cell_type": "code",
   "execution_count": 36,
   "metadata": {},
   "outputs": [],
   "source": [
    "ros = RandomOverSampler(random_state=42)\n",
    "X_train_resampled, y_train_resampled = ros.fit_resample(df_train, y_train)"
   ]
  },
  {
   "cell_type": "code",
   "execution_count": 40,
   "metadata": {},
   "outputs": [
    {
     "data": {
      "text/plain": [
       "(array([0, 1]), array([11119, 11119]))"
      ]
     },
     "execution_count": 40,
     "metadata": {},
     "output_type": "execute_result"
    }
   ],
   "source": [
    "np.unique(y_train_resampled, return_counts=True)"
   ]
  },
  {
   "cell_type": "code",
   "execution_count": 46,
   "metadata": {},
   "outputs": [
    {
     "data": {
      "text/html": [
       "<div>\n",
       "<style scoped>\n",
       "    .dataframe tbody tr th:only-of-type {\n",
       "        vertical-align: middle;\n",
       "    }\n",
       "\n",
       "    .dataframe tbody tr th {\n",
       "        vertical-align: top;\n",
       "    }\n",
       "\n",
       "    .dataframe thead th {\n",
       "        text-align: right;\n",
       "    }\n",
       "</style>\n",
       "<table border=\"1\" class=\"dataframe\">\n",
       "  <thead>\n",
       "    <tr style=\"text-align: right;\">\n",
       "      <th></th>\n",
       "      <th>clothing_id</th>\n",
       "      <th>age</th>\n",
       "      <th>review_text</th>\n",
       "      <th>rating</th>\n",
       "      <th>positive_feedback_count</th>\n",
       "      <th>division_name</th>\n",
       "      <th>department_name</th>\n",
       "      <th>class_name</th>\n",
       "    </tr>\n",
       "  </thead>\n",
       "  <tbody>\n",
       "    <tr>\n",
       "      <th>13584</th>\n",
       "      <td>8</td>\n",
       "      <td>38</td>\n",
       "      <td>this suit was high quality, and a cute design....</td>\n",
       "      <td>1</td>\n",
       "      <td>0</td>\n",
       "      <td>initmates</td>\n",
       "      <td>intimate</td>\n",
       "      <td>swim</td>\n",
       "    </tr>\n",
       "    <tr>\n",
       "      <th>16823</th>\n",
       "      <td>8</td>\n",
       "      <td>38</td>\n",
       "      <td>this suit was high quality, and a cute design....</td>\n",
       "      <td>1</td>\n",
       "      <td>0</td>\n",
       "      <td>initmates</td>\n",
       "      <td>intimate</td>\n",
       "      <td>swim</td>\n",
       "    </tr>\n",
       "    <tr>\n",
       "      <th>18767</th>\n",
       "      <td>8</td>\n",
       "      <td>70</td>\n",
       "      <td>the suit is lovely, but it is very long in the...</td>\n",
       "      <td>2</td>\n",
       "      <td>0</td>\n",
       "      <td>initmates</td>\n",
       "      <td>intimate</td>\n",
       "      <td>swim</td>\n",
       "    </tr>\n",
       "    <tr>\n",
       "      <th>10562</th>\n",
       "      <td>8</td>\n",
       "      <td>70</td>\n",
       "      <td>the suit is lovely, but it is very long in the...</td>\n",
       "      <td>2</td>\n",
       "      <td>0</td>\n",
       "      <td>initmates</td>\n",
       "      <td>intimate</td>\n",
       "      <td>swim</td>\n",
       "    </tr>\n",
       "    <tr>\n",
       "      <th>17292</th>\n",
       "      <td>8</td>\n",
       "      <td>38</td>\n",
       "      <td>this suit was high quality, and a cute design....</td>\n",
       "      <td>1</td>\n",
       "      <td>0</td>\n",
       "      <td>initmates</td>\n",
       "      <td>intimate</td>\n",
       "      <td>swim</td>\n",
       "    </tr>\n",
       "    <tr>\n",
       "      <th>...</th>\n",
       "      <td>...</td>\n",
       "      <td>...</td>\n",
       "      <td>...</td>\n",
       "      <td>...</td>\n",
       "      <td>...</td>\n",
       "      <td>...</td>\n",
       "      <td>...</td>\n",
       "      <td>...</td>\n",
       "    </tr>\n",
       "    <tr>\n",
       "      <th>18010</th>\n",
       "      <td>1203</td>\n",
       "      <td>29</td>\n",
       "      <td>great material, and i like the idea of a scoop...</td>\n",
       "      <td>4</td>\n",
       "      <td>0</td>\n",
       "      <td>initmates</td>\n",
       "      <td>intimate</td>\n",
       "      <td>layering</td>\n",
       "    </tr>\n",
       "    <tr>\n",
       "      <th>17099</th>\n",
       "      <td>1203</td>\n",
       "      <td>29</td>\n",
       "      <td>great material, and i like the idea of a scoop...</td>\n",
       "      <td>4</td>\n",
       "      <td>0</td>\n",
       "      <td>initmates</td>\n",
       "      <td>intimate</td>\n",
       "      <td>layering</td>\n",
       "    </tr>\n",
       "    <tr>\n",
       "      <th>19077</th>\n",
       "      <td>1203</td>\n",
       "      <td>29</td>\n",
       "      <td>great material, and i like the idea of a scoop...</td>\n",
       "      <td>4</td>\n",
       "      <td>0</td>\n",
       "      <td>initmates</td>\n",
       "      <td>intimate</td>\n",
       "      <td>layering</td>\n",
       "    </tr>\n",
       "    <tr>\n",
       "      <th>15758</th>\n",
       "      <td>1203</td>\n",
       "      <td>29</td>\n",
       "      <td>great material, and i like the idea of a scoop...</td>\n",
       "      <td>4</td>\n",
       "      <td>0</td>\n",
       "      <td>initmates</td>\n",
       "      <td>intimate</td>\n",
       "      <td>layering</td>\n",
       "    </tr>\n",
       "    <tr>\n",
       "      <th>12374</th>\n",
       "      <td>1203</td>\n",
       "      <td>29</td>\n",
       "      <td>great material, and i like the idea of a scoop...</td>\n",
       "      <td>4</td>\n",
       "      <td>0</td>\n",
       "      <td>initmates</td>\n",
       "      <td>intimate</td>\n",
       "      <td>layering</td>\n",
       "    </tr>\n",
       "  </tbody>\n",
       "</table>\n",
       "<p>11046 rows × 8 columns</p>\n",
       "</div>"
      ],
      "text/plain": [
       "       clothing_id  age                                        review_text  \\\n",
       "13584            8   38  this suit was high quality, and a cute design....   \n",
       "16823            8   38  this suit was high quality, and a cute design....   \n",
       "18767            8   70  the suit is lovely, but it is very long in the...   \n",
       "10562            8   70  the suit is lovely, but it is very long in the...   \n",
       "17292            8   38  this suit was high quality, and a cute design....   \n",
       "...            ...  ...                                                ...   \n",
       "18010         1203   29  great material, and i like the idea of a scoop...   \n",
       "17099         1203   29  great material, and i like the idea of a scoop...   \n",
       "19077         1203   29  great material, and i like the idea of a scoop...   \n",
       "15758         1203   29  great material, and i like the idea of a scoop...   \n",
       "12374         1203   29  great material, and i like the idea of a scoop...   \n",
       "\n",
       "       rating  positive_feedback_count division_name department_name  \\\n",
       "13584       1                        0     initmates        intimate   \n",
       "16823       1                        0     initmates        intimate   \n",
       "18767       2                        0     initmates        intimate   \n",
       "10562       2                        0     initmates        intimate   \n",
       "17292       1                        0     initmates        intimate   \n",
       "...       ...                      ...           ...             ...   \n",
       "18010       4                        0     initmates        intimate   \n",
       "17099       4                        0     initmates        intimate   \n",
       "19077       4                        0     initmates        intimate   \n",
       "15758       4                        0     initmates        intimate   \n",
       "12374       4                        0     initmates        intimate   \n",
       "\n",
       "      class_name  \n",
       "13584       swim  \n",
       "16823       swim  \n",
       "18767       swim  \n",
       "10562       swim  \n",
       "17292       swim  \n",
       "...          ...  \n",
       "18010   layering  \n",
       "17099   layering  \n",
       "19077   layering  \n",
       "15758   layering  \n",
       "12374   layering  \n",
       "\n",
       "[11046 rows x 8 columns]"
      ]
     },
     "execution_count": 46,
     "metadata": {},
     "output_type": "execute_result"
    }
   ],
   "source": [
    "X_train_resampled[X_train_resampled.review_text.duplicated(keep=False)].sort_values(by='clothing_id')"
   ]
  },
  {
   "cell_type": "code",
   "execution_count": null,
   "metadata": {},
   "outputs": [],
   "source": [
    "## next steeps: identify the categorical and numerical vars\n",
    "# feature importance\n",
    "# one hot encoding"
   ]
  },
  {
   "cell_type": "code",
   "execution_count": null,
   "metadata": {},
   "outputs": [],
   "source": []
  }
 ],
 "metadata": {
  "kernelspec": {
   "display_name": "ml_nlp",
   "language": "python",
   "name": "python3"
  },
  "language_info": {
   "codemirror_mode": {
    "name": "ipython",
    "version": 3
   },
   "file_extension": ".py",
   "mimetype": "text/x-python",
   "name": "python",
   "nbconvert_exporter": "python",
   "pygments_lexer": "ipython3",
   "version": "3.7.13"
  }
 },
 "nbformat": 4,
 "nbformat_minor": 2
}
