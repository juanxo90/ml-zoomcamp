{
  "cells": [
    {
      "cell_type": "code",
      "execution_count": 1,
      "metadata": {
        "id": "JW7qoGc_T6VQ"
      },
      "outputs": [],
      "source": [
        "import pandas as pd\n",
        "import numpy as np\n",
        "\n",
        "import seaborn as sns\n",
        "from matplotlib import pyplot as plt\n",
        "%matplotlib inline"
      ]
    },
    {
      "cell_type": "markdown",
      "metadata": {
        "id": "HR1F__L3T6VT"
      },
      "source": [
        "## exploratory data analysis (data preparation)"
      ]
    },
    {
      "cell_type": "code",
      "execution_count": 2,
      "metadata": {
        "id": "p-OIXIopT6VV",
        "outputId": "d12c2a83-ee4f-40e5-b0a6-af7cd7bc1e37"
      },
      "outputs": [],
      "source": [
        "# data = 'https://raw.githubusercontent.com/alexeygrigorev/mlbookcamp-code/master/chapter-02-car-price/data.csv'\n",
        "# !wget $data"
      ]
    },
    {
      "cell_type": "code",
      "execution_count": 3,
      "metadata": {
        "id": "mDq5V3YHT6VX"
      },
      "outputs": [],
      "source": [
        "df = pd.read_csv('data.csv')"
      ]
    },
    {
      "cell_type": "code",
      "execution_count": 4,
      "metadata": {
        "id": "juHw_jv8T6VX",
        "outputId": "5c7172f7-bf7d-42a3-8e22-6e469c8e2c7f"
      },
      "outputs": [
        {
          "data": {
            "text/html": [
              "<div>\n",
              "<style scoped>\n",
              "    .dataframe tbody tr th:only-of-type {\n",
              "        vertical-align: middle;\n",
              "    }\n",
              "\n",
              "    .dataframe tbody tr th {\n",
              "        vertical-align: top;\n",
              "    }\n",
              "\n",
              "    .dataframe thead th {\n",
              "        text-align: right;\n",
              "    }\n",
              "</style>\n",
              "<table border=\"1\" class=\"dataframe\">\n",
              "  <thead>\n",
              "    <tr style=\"text-align: right;\">\n",
              "      <th></th>\n",
              "      <th>Make</th>\n",
              "      <th>Model</th>\n",
              "      <th>Year</th>\n",
              "      <th>Engine Fuel Type</th>\n",
              "      <th>Engine HP</th>\n",
              "      <th>Engine Cylinders</th>\n",
              "      <th>Transmission Type</th>\n",
              "      <th>Driven_Wheels</th>\n",
              "      <th>Number of Doors</th>\n",
              "      <th>Market Category</th>\n",
              "      <th>Vehicle Size</th>\n",
              "      <th>Vehicle Style</th>\n",
              "      <th>highway MPG</th>\n",
              "      <th>city mpg</th>\n",
              "      <th>Popularity</th>\n",
              "      <th>MSRP</th>\n",
              "    </tr>\n",
              "  </thead>\n",
              "  <tbody>\n",
              "    <tr>\n",
              "      <th>0</th>\n",
              "      <td>BMW</td>\n",
              "      <td>1 Series M</td>\n",
              "      <td>2011</td>\n",
              "      <td>premium unleaded (required)</td>\n",
              "      <td>335.0</td>\n",
              "      <td>6.0</td>\n",
              "      <td>MANUAL</td>\n",
              "      <td>rear wheel drive</td>\n",
              "      <td>2.0</td>\n",
              "      <td>Factory Tuner,Luxury,High-Performance</td>\n",
              "      <td>Compact</td>\n",
              "      <td>Coupe</td>\n",
              "      <td>26</td>\n",
              "      <td>19</td>\n",
              "      <td>3916</td>\n",
              "      <td>46135</td>\n",
              "    </tr>\n",
              "    <tr>\n",
              "      <th>1</th>\n",
              "      <td>BMW</td>\n",
              "      <td>1 Series</td>\n",
              "      <td>2011</td>\n",
              "      <td>premium unleaded (required)</td>\n",
              "      <td>300.0</td>\n",
              "      <td>6.0</td>\n",
              "      <td>MANUAL</td>\n",
              "      <td>rear wheel drive</td>\n",
              "      <td>2.0</td>\n",
              "      <td>Luxury,Performance</td>\n",
              "      <td>Compact</td>\n",
              "      <td>Convertible</td>\n",
              "      <td>28</td>\n",
              "      <td>19</td>\n",
              "      <td>3916</td>\n",
              "      <td>40650</td>\n",
              "    </tr>\n",
              "    <tr>\n",
              "      <th>2</th>\n",
              "      <td>BMW</td>\n",
              "      <td>1 Series</td>\n",
              "      <td>2011</td>\n",
              "      <td>premium unleaded (required)</td>\n",
              "      <td>300.0</td>\n",
              "      <td>6.0</td>\n",
              "      <td>MANUAL</td>\n",
              "      <td>rear wheel drive</td>\n",
              "      <td>2.0</td>\n",
              "      <td>Luxury,High-Performance</td>\n",
              "      <td>Compact</td>\n",
              "      <td>Coupe</td>\n",
              "      <td>28</td>\n",
              "      <td>20</td>\n",
              "      <td>3916</td>\n",
              "      <td>36350</td>\n",
              "    </tr>\n",
              "  </tbody>\n",
              "</table>\n",
              "</div>"
            ],
            "text/plain": [
              "  Make       Model  Year             Engine Fuel Type  Engine HP  \\\n",
              "0  BMW  1 Series M  2011  premium unleaded (required)      335.0   \n",
              "1  BMW    1 Series  2011  premium unleaded (required)      300.0   \n",
              "2  BMW    1 Series  2011  premium unleaded (required)      300.0   \n",
              "\n",
              "   Engine Cylinders Transmission Type     Driven_Wheels  Number of Doors  \\\n",
              "0               6.0            MANUAL  rear wheel drive              2.0   \n",
              "1               6.0            MANUAL  rear wheel drive              2.0   \n",
              "2               6.0            MANUAL  rear wheel drive              2.0   \n",
              "\n",
              "                         Market Category Vehicle Size Vehicle Style  \\\n",
              "0  Factory Tuner,Luxury,High-Performance      Compact         Coupe   \n",
              "1                     Luxury,Performance      Compact   Convertible   \n",
              "2                Luxury,High-Performance      Compact         Coupe   \n",
              "\n",
              "   highway MPG  city mpg  Popularity   MSRP  \n",
              "0           26        19        3916  46135  \n",
              "1           28        19        3916  40650  \n",
              "2           28        20        3916  36350  "
            ]
          },
          "execution_count": 4,
          "metadata": {},
          "output_type": "execute_result"
        }
      ],
      "source": [
        "## the DF looks like\n",
        "df.head(3)"
      ]
    },
    {
      "cell_type": "code",
      "execution_count": 5,
      "metadata": {
        "id": "YiST9-4fT6VX",
        "outputId": "f5ae3c21-9219-4569-f604-8c8c7c5f6817"
      },
      "outputs": [
        {
          "data": {
            "text/html": [
              "<div>\n",
              "<style scoped>\n",
              "    .dataframe tbody tr th:only-of-type {\n",
              "        vertical-align: middle;\n",
              "    }\n",
              "\n",
              "    .dataframe tbody tr th {\n",
              "        vertical-align: top;\n",
              "    }\n",
              "\n",
              "    .dataframe thead th {\n",
              "        text-align: right;\n",
              "    }\n",
              "</style>\n",
              "<table border=\"1\" class=\"dataframe\">\n",
              "  <thead>\n",
              "    <tr style=\"text-align: right;\">\n",
              "      <th></th>\n",
              "      <th>make</th>\n",
              "      <th>model</th>\n",
              "      <th>year</th>\n",
              "      <th>engine_fuel_type</th>\n",
              "      <th>engine_hp</th>\n",
              "      <th>engine_cylinders</th>\n",
              "      <th>transmission_type</th>\n",
              "      <th>driven_wheels</th>\n",
              "      <th>number_of_doors</th>\n",
              "      <th>market_category</th>\n",
              "      <th>vehicle_size</th>\n",
              "      <th>vehicle_style</th>\n",
              "      <th>highway_mpg</th>\n",
              "      <th>city_mpg</th>\n",
              "      <th>popularity</th>\n",
              "      <th>msrp</th>\n",
              "    </tr>\n",
              "  </thead>\n",
              "  <tbody>\n",
              "    <tr>\n",
              "      <th>0</th>\n",
              "      <td>BMW</td>\n",
              "      <td>1 Series M</td>\n",
              "      <td>2011</td>\n",
              "      <td>premium unleaded (required)</td>\n",
              "      <td>335.0</td>\n",
              "      <td>6.0</td>\n",
              "      <td>MANUAL</td>\n",
              "      <td>rear wheel drive</td>\n",
              "      <td>2.0</td>\n",
              "      <td>Factory Tuner,Luxury,High-Performance</td>\n",
              "      <td>Compact</td>\n",
              "      <td>Coupe</td>\n",
              "      <td>26</td>\n",
              "      <td>19</td>\n",
              "      <td>3916</td>\n",
              "      <td>46135</td>\n",
              "    </tr>\n",
              "    <tr>\n",
              "      <th>1</th>\n",
              "      <td>BMW</td>\n",
              "      <td>1 Series</td>\n",
              "      <td>2011</td>\n",
              "      <td>premium unleaded (required)</td>\n",
              "      <td>300.0</td>\n",
              "      <td>6.0</td>\n",
              "      <td>MANUAL</td>\n",
              "      <td>rear wheel drive</td>\n",
              "      <td>2.0</td>\n",
              "      <td>Luxury,Performance</td>\n",
              "      <td>Compact</td>\n",
              "      <td>Convertible</td>\n",
              "      <td>28</td>\n",
              "      <td>19</td>\n",
              "      <td>3916</td>\n",
              "      <td>40650</td>\n",
              "    </tr>\n",
              "    <tr>\n",
              "      <th>2</th>\n",
              "      <td>BMW</td>\n",
              "      <td>1 Series</td>\n",
              "      <td>2011</td>\n",
              "      <td>premium unleaded (required)</td>\n",
              "      <td>300.0</td>\n",
              "      <td>6.0</td>\n",
              "      <td>MANUAL</td>\n",
              "      <td>rear wheel drive</td>\n",
              "      <td>2.0</td>\n",
              "      <td>Luxury,High-Performance</td>\n",
              "      <td>Compact</td>\n",
              "      <td>Coupe</td>\n",
              "      <td>28</td>\n",
              "      <td>20</td>\n",
              "      <td>3916</td>\n",
              "      <td>36350</td>\n",
              "    </tr>\n",
              "  </tbody>\n",
              "</table>\n",
              "</div>"
            ],
            "text/plain": [
              "  make       model  year             engine_fuel_type  engine_hp  \\\n",
              "0  BMW  1 Series M  2011  premium unleaded (required)      335.0   \n",
              "1  BMW    1 Series  2011  premium unleaded (required)      300.0   \n",
              "2  BMW    1 Series  2011  premium unleaded (required)      300.0   \n",
              "\n",
              "   engine_cylinders transmission_type     driven_wheels  number_of_doors  \\\n",
              "0               6.0            MANUAL  rear wheel drive              2.0   \n",
              "1               6.0            MANUAL  rear wheel drive              2.0   \n",
              "2               6.0            MANUAL  rear wheel drive              2.0   \n",
              "\n",
              "                         market_category vehicle_size vehicle_style  \\\n",
              "0  Factory Tuner,Luxury,High-Performance      Compact         Coupe   \n",
              "1                     Luxury,Performance      Compact   Convertible   \n",
              "2                Luxury,High-Performance      Compact         Coupe   \n",
              "\n",
              "   highway_mpg  city_mpg  popularity   msrp  \n",
              "0           26        19        3916  46135  \n",
              "1           28        19        3916  40650  \n",
              "2           28        20        3916  36350  "
            ]
          },
          "execution_count": 5,
          "metadata": {},
          "output_type": "execute_result"
        }
      ],
      "source": [
        "## cleaning our data\n",
        "\n",
        "# Getting format to the columns\n",
        "df.columns = df.columns.str.lower().str.replace(' ', '_')\n",
        "df.head(3)"
      ]
    },
    {
      "cell_type": "code",
      "execution_count": 6,
      "metadata": {
        "id": "vKiKlmE6T6VY",
        "outputId": "09db08b3-6d40-4976-92d7-2d8d99057636"
      },
      "outputs": [],
      "source": [
        "# normalize the data of every column with categorical variables\n",
        "# strings = list(df.dtypes[df.dtypes == 'object'].index)\n",
        "\n",
        "# for col in strings:\n",
        "#     print(col)\n",
        "#     df[col] = df[col].str.lower().str.replace(' ', '_')\n",
        "\n",
        "## other way to generate the processing\n",
        "df = df.applymap(\n",
        "    lambda x: x.lower().replace(' ', '_') if (isinstance(x, str)) else x\n",
        ")"
      ]
    },
    {
      "cell_type": "code",
      "execution_count": 7,
      "metadata": {},
      "outputs": [
        {
          "data": {
            "text/html": [
              "<div>\n",
              "<style scoped>\n",
              "    .dataframe tbody tr th:only-of-type {\n",
              "        vertical-align: middle;\n",
              "    }\n",
              "\n",
              "    .dataframe tbody tr th {\n",
              "        vertical-align: top;\n",
              "    }\n",
              "\n",
              "    .dataframe thead th {\n",
              "        text-align: right;\n",
              "    }\n",
              "</style>\n",
              "<table border=\"1\" class=\"dataframe\">\n",
              "  <thead>\n",
              "    <tr style=\"text-align: right;\">\n",
              "      <th></th>\n",
              "      <th>make</th>\n",
              "      <th>model</th>\n",
              "      <th>year</th>\n",
              "      <th>engine_fuel_type</th>\n",
              "      <th>engine_hp</th>\n",
              "      <th>engine_cylinders</th>\n",
              "      <th>transmission_type</th>\n",
              "      <th>driven_wheels</th>\n",
              "      <th>number_of_doors</th>\n",
              "      <th>market_category</th>\n",
              "      <th>vehicle_size</th>\n",
              "      <th>vehicle_style</th>\n",
              "      <th>highway_mpg</th>\n",
              "      <th>city_mpg</th>\n",
              "      <th>popularity</th>\n",
              "      <th>msrp</th>\n",
              "    </tr>\n",
              "  </thead>\n",
              "  <tbody>\n",
              "    <tr>\n",
              "      <th>0</th>\n",
              "      <td>bmw</td>\n",
              "      <td>1_series_m</td>\n",
              "      <td>2011</td>\n",
              "      <td>premium_unleaded_(required)</td>\n",
              "      <td>335.0</td>\n",
              "      <td>6.0</td>\n",
              "      <td>manual</td>\n",
              "      <td>rear_wheel_drive</td>\n",
              "      <td>2.0</td>\n",
              "      <td>factory_tuner,luxury,high-performance</td>\n",
              "      <td>compact</td>\n",
              "      <td>coupe</td>\n",
              "      <td>26</td>\n",
              "      <td>19</td>\n",
              "      <td>3916</td>\n",
              "      <td>46135</td>\n",
              "    </tr>\n",
              "    <tr>\n",
              "      <th>1</th>\n",
              "      <td>bmw</td>\n",
              "      <td>1_series</td>\n",
              "      <td>2011</td>\n",
              "      <td>premium_unleaded_(required)</td>\n",
              "      <td>300.0</td>\n",
              "      <td>6.0</td>\n",
              "      <td>manual</td>\n",
              "      <td>rear_wheel_drive</td>\n",
              "      <td>2.0</td>\n",
              "      <td>luxury,performance</td>\n",
              "      <td>compact</td>\n",
              "      <td>convertible</td>\n",
              "      <td>28</td>\n",
              "      <td>19</td>\n",
              "      <td>3916</td>\n",
              "      <td>40650</td>\n",
              "    </tr>\n",
              "    <tr>\n",
              "      <th>2</th>\n",
              "      <td>bmw</td>\n",
              "      <td>1_series</td>\n",
              "      <td>2011</td>\n",
              "      <td>premium_unleaded_(required)</td>\n",
              "      <td>300.0</td>\n",
              "      <td>6.0</td>\n",
              "      <td>manual</td>\n",
              "      <td>rear_wheel_drive</td>\n",
              "      <td>2.0</td>\n",
              "      <td>luxury,high-performance</td>\n",
              "      <td>compact</td>\n",
              "      <td>coupe</td>\n",
              "      <td>28</td>\n",
              "      <td>20</td>\n",
              "      <td>3916</td>\n",
              "      <td>36350</td>\n",
              "    </tr>\n",
              "  </tbody>\n",
              "</table>\n",
              "</div>"
            ],
            "text/plain": [
              "  make       model  year             engine_fuel_type  engine_hp  \\\n",
              "0  bmw  1_series_m  2011  premium_unleaded_(required)      335.0   \n",
              "1  bmw    1_series  2011  premium_unleaded_(required)      300.0   \n",
              "2  bmw    1_series  2011  premium_unleaded_(required)      300.0   \n",
              "\n",
              "   engine_cylinders transmission_type     driven_wheels  number_of_doors  \\\n",
              "0               6.0            manual  rear_wheel_drive              2.0   \n",
              "1               6.0            manual  rear_wheel_drive              2.0   \n",
              "2               6.0            manual  rear_wheel_drive              2.0   \n",
              "\n",
              "                         market_category vehicle_size vehicle_style  \\\n",
              "0  factory_tuner,luxury,high-performance      compact         coupe   \n",
              "1                     luxury,performance      compact   convertible   \n",
              "2                luxury,high-performance      compact         coupe   \n",
              "\n",
              "   highway_mpg  city_mpg  popularity   msrp  \n",
              "0           26        19        3916  46135  \n",
              "1           28        19        3916  40650  \n",
              "2           28        20        3916  36350  "
            ]
          },
          "execution_count": 7,
          "metadata": {},
          "output_type": "execute_result"
        }
      ],
      "source": [
        "df.head(3)"
      ]
    },
    {
      "cell_type": "code",
      "execution_count": 8,
      "metadata": {
        "id": "GPpcsv4CT6VZ",
        "outputId": "bfaf6ac3-3423-4d4a-d6f9-439dce880bd8"
      },
      "outputs": [
        {
          "name": "stdout",
          "output_type": "stream",
          "text": [
            "make\n",
            "['bmw' 'audi' 'fiat' 'mercedes-benz' 'chrysler']\n",
            "48\n",
            "model\n",
            "['1_series_m' '1_series' '100' '124_spider' '190-class']\n",
            "914\n",
            "year\n",
            "[2011 2012 2013 1992 1993]\n",
            "28\n",
            "engine_fuel_type\n",
            "['premium_unleaded_(required)' 'regular_unleaded'\n",
            " 'premium_unleaded_(recommended)' 'flex-fuel_(unleaded/e85)' 'diesel']\n",
            "10\n",
            "engine_hp\n",
            "[335. 300. 230. 320. 172.]\n",
            "356\n",
            "engine_cylinders\n",
            "[ 6.  4.  5.  8. 12.]\n",
            "9\n",
            "transmission_type\n",
            "['manual' 'automatic' 'automated_manual' 'direct_drive' 'unknown']\n",
            "5\n",
            "driven_wheels\n",
            "['rear_wheel_drive' 'front_wheel_drive' 'all_wheel_drive'\n",
            " 'four_wheel_drive']\n",
            "4\n",
            "number_of_doors\n",
            "[ 2.  4.  3. nan]\n",
            "3\n",
            "market_category\n",
            "['factory_tuner,luxury,high-performance' 'luxury,performance'\n",
            " 'luxury,high-performance' 'luxury' 'performance']\n",
            "71\n",
            "vehicle_size\n",
            "['compact' 'midsize' 'large']\n",
            "3\n",
            "vehicle_style\n",
            "['coupe' 'convertible' 'sedan' 'wagon' '4dr_hatchback']\n",
            "16\n",
            "highway_mpg\n",
            "[26 28 27 25 24]\n",
            "59\n",
            "city_mpg\n",
            "[19 20 18 17 16]\n",
            "69\n",
            "popularity\n",
            "[3916 3105  819  617 1013]\n",
            "48\n",
            "msrp\n",
            "[46135 40650 36350 29450 34500]\n",
            "6049\n"
          ]
        }
      ],
      "source": [
        "for col in df.columns:\n",
        "    print(col)\n",
        "    print(df[col].unique()[:5])    \n",
        "    print(df[col].nunique())"
      ]
    },
    {
      "cell_type": "code",
      "execution_count": 9,
      "metadata": {
        "id": "gDcwEK9MT6VZ"
      },
      "outputs": [
        {
          "data": {
            "text/plain": [
              "<AxesSubplot:xlabel='msrp', ylabel='Count'>"
            ]
          },
          "execution_count": 9,
          "metadata": {},
          "output_type": "execute_result"
        },
        {
          "data": {
            "image/png": "[encoded data removed]",
            "text/plain": [
              "<Figure size 640x480 with 1 Axes>"
            ]
          },
          "metadata": {},
          "output_type": "display_data"
        }
      ],
      "source": [
        "sns.histplot(data=df[df.msrp <= 100000], x='msrp', bins=40)"
      ]
    },
    {
      "cell_type": "code",
      "execution_count": 10,
      "metadata": {},
      "outputs": [
        {
          "data": {
            "text/plain": [
              "array([ 0.        ,  0.69314718,  2.39789527,  6.90875478, 11.51293546])"
            ]
          },
          "execution_count": 10,
          "metadata": {},
          "output_type": "execute_result"
        }
      ],
      "source": [
        "## lets apply a distribution transformation\n",
        "# add a one could help to make the log transformatio\n",
        "np.log1p([0 , 1, 10, 1000, 100000])\n",
        "# np.log1p([0 + 1, 1 + 1, 10 + 1, 1000 + 1, 100000 + 1]) ## same operation"
      ]
    },
    {
      "cell_type": "code",
      "execution_count": 11,
      "metadata": {},
      "outputs": [],
      "source": [
        "price_log = np.log1p(df.msrp)"
      ]
    },
    {
      "cell_type": "code",
      "execution_count": 12,
      "metadata": {},
      "outputs": [
        {
          "data": {
            "text/plain": [
              "<AxesSubplot:xlabel='msrp', ylabel='Count'>"
            ]
          },
          "execution_count": 12,
          "metadata": {},
          "output_type": "execute_result"
        },
        {
          "data": {
            "image/png": "[encoded data removed]",
            "text/plain": [
              "<Figure size 640x480 with 1 Axes>"
            ]
          },
          "metadata": {},
          "output_type": "display_data"
        }
      ],
      "source": [
        "sns.histplot(price_log, bins=40) # almost normal dist"
      ]
    },
    {
      "cell_type": "code",
      "execution_count": 13,
      "metadata": {},
      "outputs": [
        {
          "data": {
            "text/plain": [
              "make                    0\n",
              "model                   0\n",
              "year                    0\n",
              "engine_fuel_type        3\n",
              "engine_hp              69\n",
              "engine_cylinders       30\n",
              "transmission_type       0\n",
              "driven_wheels           0\n",
              "number_of_doors         6\n",
              "market_category      3742\n",
              "vehicle_size            0\n",
              "vehicle_style           0\n",
              "highway_mpg             0\n",
              "city_mpg                0\n",
              "popularity              0\n",
              "msrp                    0\n",
              "dtype: int64"
            ]
          },
          "execution_count": 13,
          "metadata": {},
          "output_type": "execute_result"
        }
      ],
      "source": [
        "## missing values \n",
        "df.isnull().sum()"
      ]
    },
    {
      "cell_type": "markdown",
      "metadata": {},
      "source": [
        "## setting up the validation framework"
      ]
    },
    {
      "cell_type": "code",
      "execution_count": 14,
      "metadata": {},
      "outputs": [],
      "source": [
        "n = len(df)\n",
        "\n",
        "n_val = int(n * 0.2)\n",
        "n_test = int(n * 0.2)\n",
        "n_train = n - n_val - n_test"
      ]
    },
    {
      "cell_type": "code",
      "execution_count": 15,
      "metadata": {},
      "outputs": [
        {
          "data": {
            "text/plain": [
              "(2382, 2382, 7150)"
            ]
          },
          "execution_count": 15,
          "metadata": {},
          "output_type": "execute_result"
        }
      ],
      "source": [
        "n_val, n_test, n_train"
      ]
    },
    {
      "cell_type": "code",
      "execution_count": 16,
      "metadata": {},
      "outputs": [],
      "source": [
        "## plant the seed \n",
        "np.random.seed(2)\n",
        "\n",
        "#get the id numbers\n",
        "idx = np.arange(n)\n",
        "\n",
        "# suffle id numbers\n",
        "np.random.shuffle(idx)"
      ]
    },
    {
      "cell_type": "code",
      "execution_count": 17,
      "metadata": {},
      "outputs": [],
      "source": [
        "## creating a train, val and test\n",
        "df_train = df.iloc[idx[:n_train]].copy().reset_index(drop=True)\n",
        "df_val = df.iloc[idx[n_train:n_train+n_val]].copy().reset_index(drop=True)\n",
        "df_test = df.iloc[idx[n_train+n_val:]].copy().reset_index(drop=True)"
      ]
    },
    {
      "cell_type": "code",
      "execution_count": 18,
      "metadata": {},
      "outputs": [],
      "source": [
        "y_train = np.log1p(df_train.msrp.values)\n",
        "y_val = np.log1p(df_val.msrp.values)\n",
        "y_test = np.log1p(df_test.msrp.values)"
      ]
    },
    {
      "cell_type": "code",
      "execution_count": 19,
      "metadata": {},
      "outputs": [],
      "source": [
        "## to do not get confussion delete the target variable from the\n",
        "# features DF to avoid errors\n",
        "del df_train['msrp']\n",
        "del df_val['msrp']\n",
        "del df_test['msrp']"
      ]
    },
    {
      "cell_type": "markdown",
      "metadata": {},
      "source": [
        "## linear regression intro"
      ]
    },
    {
      "cell_type": "code",
      "execution_count": 20,
      "metadata": {},
      "outputs": [
        {
          "data": {
            "text/plain": [
              "make                                 rolls-royce\n",
              "model                     phantom_drophead_coupe\n",
              "year                                        2015\n",
              "engine_fuel_type     premium_unleaded_(required)\n",
              "engine_hp                                  453.0\n",
              "engine_cylinders                            12.0\n",
              "transmission_type                      automatic\n",
              "driven_wheels                   rear_wheel_drive\n",
              "number_of_doors                              2.0\n",
              "market_category        exotic,luxury,performance\n",
              "vehicle_size                               large\n",
              "vehicle_style                        convertible\n",
              "highway_mpg                                   19\n",
              "city_mpg                                      11\n",
              "popularity                                    86\n",
              "Name: 10, dtype: object"
            ]
          },
          "execution_count": 20,
          "metadata": {},
          "output_type": "execute_result"
        }
      ],
      "source": [
        "df_train.iloc[10]"
      ]
    },
    {
      "cell_type": "code",
      "execution_count": 21,
      "metadata": {},
      "outputs": [],
      "source": [
        "xi = [453, 11, 86] ## feature matrix of 3 elements \n",
        "\n",
        "## creating the weights for the regression\n",
        "w0 = 7.17\n",
        "w = [0.01, 0.04, 0.002]"
      ]
    },
    {
      "cell_type": "code",
      "execution_count": 22,
      "metadata": {},
      "outputs": [],
      "source": [
        "def linear_regression(xi):\n",
        "    n = len(xi)\n",
        "\n",
        "    pred = w0\n",
        "\n",
        "    for j in range(n):\n",
        "        pred =pred + w[j] * xi[j]\n",
        "\n",
        "    return pred"
      ]
    },
    {
      "cell_type": "code",
      "execution_count": 23,
      "metadata": {},
      "outputs": [
        {
          "data": {
            "text/plain": [
              "12.312"
            ]
          },
          "execution_count": 23,
          "metadata": {},
          "output_type": "execute_result"
        }
      ],
      "source": [
        "linear_regression(xi)"
      ]
    },
    {
      "cell_type": "code",
      "execution_count": 24,
      "metadata": {},
      "outputs": [
        {
          "data": {
            "text/plain": [
              "222347.2221101062"
            ]
          },
          "execution_count": 24,
          "metadata": {},
          "output_type": "execute_result"
        }
      ],
      "source": [
        "## remember to backtransform the result to the original data. Remove the log\n",
        "# with exponential and substract the 1 add to do not have the error of log(0)\n",
        "np.exp(12.312) - 1 "
      ]
    },
    {
      "cell_type": "markdown",
      "metadata": {},
      "source": [
        "## Linear regression vector form "
      ]
    },
    {
      "cell_type": "code",
      "execution_count": 25,
      "metadata": {},
      "outputs": [],
      "source": [
        "def dot(xi, w):\n",
        "    n = len(xi)\n",
        "\n",
        "    res = 0.0\n",
        "\n",
        "    for j in range(n):\n",
        "        res = res + xi[j] * w[j]\n",
        "    \n",
        "    return res"
      ]
    },
    {
      "cell_type": "code",
      "execution_count": 26,
      "metadata": {},
      "outputs": [],
      "source": [
        "def linear_regression(xi):\n",
        "    return w0 + dot(xi, w)"
      ]
    },
    {
      "cell_type": "code",
      "execution_count": 27,
      "metadata": {},
      "outputs": [],
      "source": [
        "w_new = [w0] + w"
      ]
    },
    {
      "cell_type": "code",
      "execution_count": 28,
      "metadata": {},
      "outputs": [
        {
          "data": {
            "text/plain": [
              "[7.17, 0.01, 0.04, 0.002]"
            ]
          },
          "execution_count": 28,
          "metadata": {},
          "output_type": "execute_result"
        }
      ],
      "source": [
        "w_new"
      ]
    },
    {
      "cell_type": "code",
      "execution_count": 29,
      "metadata": {},
      "outputs": [],
      "source": [
        "def linear_regression(xi):\n",
        "    xi = [1] + xi\n",
        "    return dot(xi, w_new)"
      ]
    },
    {
      "cell_type": "code",
      "execution_count": 30,
      "metadata": {},
      "outputs": [
        {
          "data": {
            "text/plain": [
              "12.312"
            ]
          },
          "execution_count": 30,
          "metadata": {},
          "output_type": "execute_result"
        }
      ],
      "source": [
        "linear_regression(xi)"
      ]
    },
    {
      "cell_type": "code",
      "execution_count": 31,
      "metadata": {},
      "outputs": [],
      "source": [
        "w0 = 7.17\n",
        "w = [0.01, 0.04, 0.002]\n",
        "w_new = [w0] + w"
      ]
    },
    {
      "cell_type": "code",
      "execution_count": 32,
      "metadata": {},
      "outputs": [
        {
          "data": {
            "text/plain": [
              "array([[   1,  148,   24, 1385],\n",
              "       [   1,  132,   25, 2031],\n",
              "       [   1,  453,   11,   86]])"
            ]
          },
          "execution_count": 32,
          "metadata": {},
          "output_type": "execute_result"
        }
      ],
      "source": [
        "x1 = [1, 148, 24, 1385]\n",
        "x2 = [1, 132, 25, 2031]\n",
        "x10 = [1, 453, 11, 86]\n",
        "\n",
        "X = [x1, x2, x10]\n",
        "X = np.array(X)\n",
        "X"
      ]
    },
    {
      "cell_type": "code",
      "execution_count": 33,
      "metadata": {},
      "outputs": [
        {
          "data": {
            "text/plain": [
              "array([12.38 , 13.552, 12.312])"
            ]
          },
          "execution_count": 33,
          "metadata": {},
          "output_type": "execute_result"
        }
      ],
      "source": [
        "X.dot(w_new)"
      ]
    },
    {
      "cell_type": "code",
      "execution_count": 34,
      "metadata": {},
      "outputs": [],
      "source": [
        "def linear_regression(X):\n",
        "    return X.dot(w_new)"
      ]
    },
    {
      "cell_type": "code",
      "execution_count": 35,
      "metadata": {},
      "outputs": [
        {
          "data": {
            "text/plain": [
              "array([12.38 , 13.552, 12.312])"
            ]
          },
          "execution_count": 35,
          "metadata": {},
          "output_type": "execute_result"
        }
      ],
      "source": [
        "linear_regression(X)"
      ]
    },
    {
      "cell_type": "markdown",
      "metadata": {},
      "source": [
        "## training a linear regression"
      ]
    },
    {
      "cell_type": "code",
      "execution_count": 36,
      "metadata": {},
      "outputs": [
        {
          "data": {
            "text/plain": [
              "array([[ 148,   24, 1385],\n",
              "       [ 132,   25, 2031],\n",
              "       [ 453,   11,   86],\n",
              "       [ 158,   24,  185],\n",
              "       [ 172,   25,  201],\n",
              "       [ 413,   11,   86],\n",
              "       [  38,   54,  185],\n",
              "       [ 142,   25,  431],\n",
              "       [ 453,   31,   86]])"
            ]
          },
          "execution_count": 36,
          "metadata": {},
          "output_type": "execute_result"
        }
      ],
      "source": [
        "X = [\n",
        "    [148, 24, 1385], \n",
        "    [132, 25, 2031],\n",
        "    [453, 11, 86],\n",
        "    [158, 24, 185],\n",
        "    [172, 25, 201],\n",
        "    [413, 11, 86],\n",
        "    [38, 54, 185],\n",
        "    [142, 25, 431],\n",
        "    [453, 31, 86],\n",
        "]\n",
        "\n",
        "X = np.array(X)\n",
        "X"
      ]
    },
    {
      "cell_type": "code",
      "execution_count": 37,
      "metadata": {},
      "outputs": [],
      "source": [
        "# ones = np.ones(X.shape[0])"
      ]
    },
    {
      "cell_type": "code",
      "execution_count": 38,
      "metadata": {},
      "outputs": [],
      "source": [
        "# X = np.column_stack([ones, X])"
      ]
    },
    {
      "cell_type": "code",
      "execution_count": 39,
      "metadata": {},
      "outputs": [],
      "source": [
        "y = [10000, 20000, 15000, 20050, 10000, 20000, 15000, 25000, 12000]"
      ]
    },
    {
      "cell_type": "code",
      "execution_count": 40,
      "metadata": {},
      "outputs": [],
      "source": [
        "# XTX = X.T.dot(X)\n",
        "# XTX_inv = np.linalg.inv(XTX)"
      ]
    },
    {
      "cell_type": "code",
      "execution_count": 41,
      "metadata": {},
      "outputs": [],
      "source": [
        "# w_full = XTX_inv.dot(X.T).dot(y)"
      ]
    },
    {
      "cell_type": "code",
      "execution_count": 42,
      "metadata": {},
      "outputs": [],
      "source": [
        "# w0 = w_full[0]\n",
        "# w = w_full[1:]\n",
        "# w0, w"
      ]
    },
    {
      "cell_type": "code",
      "execution_count": 43,
      "metadata": {},
      "outputs": [],
      "source": [
        "def train_linear_regression(X, y):\n",
        "    ones = np.ones(X.shape[0])\n",
        "    X = np.column_stack([ones, X])\n",
        "\n",
        "    XTX = X.T.dot(X)\n",
        "    XTX_inv = np.linalg.inv(XTX)\n",
        "    w_full = XTX_inv.dot(X.T).dot(y)\n",
        "\n",
        "    return w_full[0], w_full[1:]"
      ]
    },
    {
      "cell_type": "code",
      "execution_count": 44,
      "metadata": {},
      "outputs": [
        {
          "data": {
            "text/plain": [
              "(25844.75405576679, array([ -16.08906468, -199.47254894,   -1.22802883]))"
            ]
          },
          "execution_count": 44,
          "metadata": {},
          "output_type": "execute_result"
        }
      ],
      "source": [
        "train_linear_regression(X, y)"
      ]
    },
    {
      "cell_type": "markdown",
      "metadata": {},
      "source": [
        "## car price baseline model"
      ]
    },
    {
      "cell_type": "code",
      "execution_count": 45,
      "metadata": {},
      "outputs": [
        {
          "data": {
            "text/plain": [
              "make                  object\n",
              "model                 object\n",
              "year                   int64\n",
              "engine_fuel_type      object\n",
              "engine_hp            float64\n",
              "engine_cylinders     float64\n",
              "transmission_type     object\n",
              "driven_wheels         object\n",
              "number_of_doors      float64\n",
              "market_category       object\n",
              "vehicle_size          object\n",
              "vehicle_style         object\n",
              "highway_mpg            int64\n",
              "city_mpg               int64\n",
              "popularity             int64\n",
              "dtype: object"
            ]
          },
          "execution_count": 45,
          "metadata": {},
          "output_type": "execute_result"
        }
      ],
      "source": [
        "df_train.dtypes"
      ]
    },
    {
      "cell_type": "code",
      "execution_count": 46,
      "metadata": {},
      "outputs": [],
      "source": [
        "## extracting numerical values\n",
        "base = [\n",
        "    'engine_hp', 'engine_cylinders', 'highway_mpg', 'city_mpg', 'popularity'\n",
        "]\n",
        "X_train = df_train[base].fillna(0).values"
      ]
    },
    {
      "cell_type": "code",
      "execution_count": 47,
      "metadata": {},
      "outputs": [],
      "source": [
        "w0, w = train_linear_regression(X_train, y_train)"
      ]
    },
    {
      "cell_type": "code",
      "execution_count": 48,
      "metadata": {},
      "outputs": [],
      "source": [
        "y_pred = w0 + X_train.dot(w)"
      ]
    },
    {
      "cell_type": "code",
      "execution_count": 49,
      "metadata": {},
      "outputs": [
        {
          "data": {
            "text/plain": [
              "<AxesSubplot:ylabel='Count'>"
            ]
          },
          "execution_count": 49,
          "metadata": {},
          "output_type": "execute_result"
        },
        {
          "data": {
            "image/png": "[encoded data removed]",
            "text/plain": [
              "<Figure size 640x480 with 1 Axes>"
            ]
          },
          "metadata": {},
          "output_type": "display_data"
        }
      ],
      "source": [
        "sns.histplot(y_pred, color='red', alpha=0.5, bins=50)\n",
        "sns.histplot(y_train, color='blue', alpha=0.5, bins=50)"
      ]
    },
    {
      "cell_type": "markdown",
      "metadata": {},
      "source": [
        "## RMSE and validation a model"
      ]
    },
    {
      "cell_type": "code",
      "execution_count": 50,
      "metadata": {},
      "outputs": [],
      "source": [
        "def rmse(y, y_pred):    \n",
        "    se = (y - y_pred) ** 2\n",
        "    mse = se.mean()\n",
        "    return np.sqrt(mse)"
      ]
    },
    {
      "cell_type": "code",
      "execution_count": 51,
      "metadata": {},
      "outputs": [
        {
          "data": {
            "text/plain": [
              "0.7554192603920132"
            ]
          },
          "execution_count": 51,
          "metadata": {},
          "output_type": "execute_result"
        }
      ],
      "source": [
        "rmse(y_train, y_pred)"
      ]
    },
    {
      "cell_type": "code",
      "execution_count": 52,
      "metadata": {},
      "outputs": [],
      "source": [
        "## extracting numerical values\n",
        "base = [\n",
        "    'engine_hp', 'engine_cylinders', 'highway_mpg', 'city_mpg', 'popularity'\n",
        "]\n",
        "X_train = df_train[base].fillna(0).values\n",
        "w0, w = train_linear_regression(X_train, y_train)\n",
        "y_pred = w0 + X_train.dot(w)"
      ]
    },
    {
      "cell_type": "code",
      "execution_count": 53,
      "metadata": {},
      "outputs": [],
      "source": [
        "def prepare_X(df):\n",
        "    df_num = df[base].copy()\n",
        "    df_num = df_num.fillna(0)\n",
        "    X= df_num.values\n",
        "    return X"
      ]
    },
    {
      "cell_type": "code",
      "execution_count": 54,
      "metadata": {},
      "outputs": [
        {
          "data": {
            "text/plain": [
              "0.7616530991301601"
            ]
          },
          "execution_count": 54,
          "metadata": {},
          "output_type": "execute_result"
        }
      ],
      "source": [
        "X_train = prepare_X(df_train)\n",
        "w0, w = train_linear_regression(X_train, y_train)\n",
        "\n",
        "X_val = prepare_X(df_val)\n",
        "y_pred = w0 + X_val.dot(w)\n",
        "\n",
        "rmse(y_val, y_pred)"
      ]
    },
    {
      "cell_type": "markdown",
      "metadata": {},
      "source": [
        "## Simple feature engineering"
      ]
    },
    {
      "cell_type": "code",
      "execution_count": 55,
      "metadata": {},
      "outputs": [],
      "source": [
        "def prepare_X(df):\n",
        "    df = df.copy()\n",
        "    features = base.copy()\n",
        "\n",
        "    df['age'] = 2017 - df.year\n",
        "    features.append('age')\n",
        "\n",
        "    df_num = df[features]\n",
        "    df_num = df_num.fillna(0)\n",
        "    X = df_num.values\n",
        "    return X"
      ]
    },
    {
      "cell_type": "code",
      "execution_count": 56,
      "metadata": {},
      "outputs": [
        {
          "data": {
            "text/plain": [
              "0.5172055461058335"
            ]
          },
          "execution_count": 56,
          "metadata": {},
          "output_type": "execute_result"
        }
      ],
      "source": [
        "## giving a better improvement at the time to add new features\n",
        "X_train = prepare_X(df_train)\n",
        "w0, w = train_linear_regression(X_train, y_train)\n",
        "\n",
        "X_val = prepare_X(df_val)\n",
        "y_pred = w0 + X_val.dot(w)\n",
        "\n",
        "rmse(y_val, y_pred)"
      ]
    },
    {
      "cell_type": "code",
      "execution_count": 57,
      "metadata": {},
      "outputs": [
        {
          "data": {
            "text/plain": [
              "<AxesSubplot:ylabel='Count'>"
            ]
          },
          "execution_count": 57,
          "metadata": {},
          "output_type": "execute_result"
        },
        {
          "data": {
            "image/png": "[encoded data removed]",
            "text/plain": [
              "<Figure size 640x480 with 1 Axes>"
            ]
          },
          "metadata": {},
          "output_type": "display_data"
        }
      ],
      "source": [
        "sns.histplot(y_pred, color='red', alpha=0.5, bins=50)\n",
        "sns.histplot(y_val, color='blue', alpha=0.5, bins=50)"
      ]
    },
    {
      "cell_type": "markdown",
      "metadata": {},
      "source": [
        "## categorical varibales"
      ]
    },
    {
      "cell_type": "code",
      "execution_count": 58,
      "metadata": {},
      "outputs": [],
      "source": [
        "def prepare_X(df):\n",
        "    df = df.copy()\n",
        "    features = base.copy()\n",
        "\n",
        "    df['age'] = 2017 - df.year\n",
        "    features.append('age')\n",
        "\n",
        "    for v in [2, 3, 4]:\n",
        "        feature = 'num_doors_%s' % v\n",
        "        df[feature] = (df['number_of_doors'] == v).astype(int)\n",
        "        features.append(feature)\n",
        "\n",
        "    df_num = df[features]\n",
        "    df_num = df_num.fillna(0)\n",
        "    X = df_num.values\n",
        "    return X"
      ]
    },
    {
      "cell_type": "code",
      "execution_count": 59,
      "metadata": {},
      "outputs": [
        {
          "data": {
            "text/plain": [
              "0.5157995641502353"
            ]
          },
          "execution_count": 59,
          "metadata": {},
          "output_type": "execute_result"
        }
      ],
      "source": [
        "## giving a better improvement at the time to add new features\n",
        "X_train = prepare_X(df_train)\n",
        "w0, w = train_linear_regression(X_train, y_train)\n",
        "\n",
        "X_val = prepare_X(df_val)\n",
        "y_pred = w0 + X_val.dot(w)\n",
        "\n",
        "rmse(y_val, y_pred)"
      ]
    },
    {
      "cell_type": "code",
      "execution_count": 60,
      "metadata": {},
      "outputs": [],
      "source": [
        "def prepare_X(df):\n",
        "    df = df.copy()\n",
        "    features = base.copy()\n",
        "\n",
        "    df['age'] = 2017 - df.year\n",
        "    features.append('age')\n",
        "\n",
        "    for v in [2, 3, 4]:\n",
        "        feature = 'num_doors_%s' % v\n",
        "        df[feature] = (df['number_of_doors'] == v).astype(int)\n",
        "        features.append(feature)\n",
        "    \n",
        "    makes = list(df.make.value_counts().head().index)\n",
        "\n",
        "    for v in makes:\n",
        "        feature = 'is_make_%s' % v\n",
        "        df[feature] = (df['make'] == v).astype(int)\n",
        "        features.append(feature)\n",
        "\n",
        "    df_num = df[features]\n",
        "    df_num = df_num.fillna(0)\n",
        "    X = df_num.values\n",
        "    return X"
      ]
    },
    {
      "cell_type": "code",
      "execution_count": 61,
      "metadata": {},
      "outputs": [
        {
          "data": {
            "text/plain": [
              "0.5076038849557035"
            ]
          },
          "execution_count": 61,
          "metadata": {},
          "output_type": "execute_result"
        }
      ],
      "source": [
        "## giving a better improvement at the time to add new features\n",
        "X_train = prepare_X(df_train)\n",
        "w0, w = train_linear_regression(X_train, y_train)\n",
        "\n",
        "X_val = prepare_X(df_val)\n",
        "y_pred = w0 + X_val.dot(w)\n",
        "\n",
        "rmse(y_val, y_pred)"
      ]
    },
    {
      "cell_type": "code",
      "execution_count": 62,
      "metadata": {},
      "outputs": [],
      "source": [
        "def prepare_X(df):\n",
        "    df = df.copy()\n",
        "    features = base.copy()\n",
        "\n",
        "    df['age'] = 2017 - df.year\n",
        "    features.append('age')\n",
        "\n",
        "    for v in [2, 3, 4]:\n",
        "        feature = 'num_doors_%s' % v\n",
        "        df[feature] = (df['number_of_doors'] == v).astype(int)\n",
        "        features.append(feature)\n",
        "\n",
        "    categorical_variables = [\n",
        "        'make', 'engine_fuel_type', 'transmission_type', 'driven_wheels',\n",
        "        'market_category', 'vehicle_size', 'vehicle_style'\n",
        "    ]\n",
        "    categories = {}\n",
        "\n",
        "    for c in categorical_variables:\n",
        "        categories[c] = list(df[c].value_counts().head().index)\n",
        "\n",
        "    for c, values in categories.items():\n",
        "        for v in values:\n",
        "            df['%s_%s' % (c, v)] = (df[c] == v).astype(int)\n",
        "            features.append('%s_%s' % (c, v))\n",
        "\n",
        "    df_num = df[features]\n",
        "    df_num = df_num.fillna(0)\n",
        "    X = df_num.values\n",
        "    return X"
      ]
    },
    {
      "cell_type": "code",
      "execution_count": 63,
      "metadata": {},
      "outputs": [
        {
          "data": {
            "text/plain": [
              "11.968421232506484"
            ]
          },
          "execution_count": 63,
          "metadata": {},
          "output_type": "execute_result"
        }
      ],
      "source": [
        "## giving a better improvement at the time to add new features\n",
        "X_train = prepare_X(df_train)\n",
        "w0, w = train_linear_regression(X_train, y_train)\n",
        "\n",
        "X_val = prepare_X(df_val)\n",
        "y_pred = w0 + X_val.dot(w)\n",
        "\n",
        "rmse(y_val, y_pred)"
      ]
    }
  ],
  "metadata": {
    "colab": {
      "provenance": []
    },
    "kernelspec": {
      "display_name": "ml_nlp",
      "language": "python",
      "name": "python3"
    },
    "language_info": {
      "codemirror_mode": {
        "name": "ipython",
        "version": 3
      },
      "file_extension": ".py",
      "mimetype": "text/x-python",
      "name": "python",
      "nbconvert_exporter": "python",
      "pygments_lexer": "ipython3",
      "version": "3.7.13"
    },
    "orig_nbformat": 4
  },
  "nbformat": 4,
  "nbformat_minor": 0
}
